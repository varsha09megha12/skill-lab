{
 "cells": [
  {
   "cell_type": "markdown",
   "id": "3e639ddd-95e3-440b-a58b-e91355c4d7b3",
   "metadata": {},
   "source": [
    "# Arrays"
   ]
  },
  {
   "cell_type": "code",
   "execution_count": 1,
   "id": "4da99d93-95d4-47d8-9aa4-621e38e37656",
   "metadata": {},
   "outputs": [
    {
     "name": "stdout",
     "output_type": "stream",
     "text": [
      "array('i', [3, 5, 7, 2, 3])\n",
      "<class 'array.array'>\n"
     ]
    }
   ],
   "source": [
    "# initialize\n",
    "from array import array\n",
    "arr = array('i',[3,5,7,2,3])\n",
    "print(arr)\n",
    "print(type(arr))"
   ]
  },
  {
   "cell_type": "code",
   "execution_count": 2,
   "id": "4b0c8437-ba3b-4744-9728-ed34269b9765",
   "metadata": {},
   "outputs": [
    {
     "data": {
      "text/plain": [
       "7"
      ]
     },
     "execution_count": 2,
     "metadata": {},
     "output_type": "execute_result"
    }
   ],
   "source": [
    "arr [2] #access\n",
    "\n"
   ]
  },
  {
   "cell_type": "code",
   "execution_count": 3,
   "id": "175c8e35-194e-4ac7-b65e-363320c1118f",
   "metadata": {},
   "outputs": [],
   "source": [
    "#modify\n",
    "arr[2]=9"
   ]
  },
  {
   "cell_type": "code",
   "execution_count": 4,
   "id": "455eca30-2f76-459f-aea2-7b36a9e87f88",
   "metadata": {},
   "outputs": [
    {
     "name": "stdout",
     "output_type": "stream",
     "text": [
      "array('i', [3, 5, 9, 2, 3])\n"
     ]
    }
   ],
   "source": [
    "print(arr)\n"
   ]
  },
  {
   "cell_type": "code",
   "execution_count": 5,
   "id": "ab0e96e8-3b9d-43e5-ab10-95acb1d3ea57",
   "metadata": {},
   "outputs": [
    {
     "name": "stdout",
     "output_type": "stream",
     "text": [
      "array('i', [3, 5, 2, 3])\n"
     ]
    }
   ],
   "source": [
    "del(arr[2])\n",
    "print(arr)"
   ]
  },
  {
   "cell_type": "code",
   "execution_count": 6,
   "id": "a8319c46-55be-497b-b6e9-1047d3e92d20",
   "metadata": {},
   "outputs": [
    {
     "name": "stdout",
     "output_type": "stream",
     "text": [
      "array('i', [3, 5, 373, 2, 3])\n"
     ]
    }
   ],
   "source": [
    "#inserting\n",
    "arr.insert(2,373)\n",
    "print(arr)"
   ]
  },
  {
   "cell_type": "code",
   "execution_count": 7,
   "id": "4ba73511-eac1-4638-b1c1-1075f9b67d75",
   "metadata": {},
   "outputs": [
    {
     "name": "stdout",
     "output_type": "stream",
     "text": [
      "3\n",
      "5\n",
      "373\n",
      "2\n",
      "3\n"
     ]
    }
   ],
   "source": [
    "for i in arr:\n",
    "    print(i)\n",
    "    "
   ]
  },
  {
   "cell_type": "code",
   "execution_count": 8,
   "id": "73fbaa02-3234-433a-90f4-3d499f588214",
   "metadata": {},
   "outputs": [
    {
     "name": "stdout",
     "output_type": "stream",
     "text": [
      "5\n",
      "373\n"
     ]
    }
   ],
   "source": [
    "for i in arr:\n",
    "    if i > 3:\n",
    "        print(i)"
   ]
  },
  {
   "cell_type": "code",
   "execution_count": 9,
   "id": "4b3d90f7-68b5-4b73-a6d0-ab91ee29ed90",
   "metadata": {},
   "outputs": [
    {
     "data": {
      "text/plain": [
       "array('i', [3, 5, 373, 2, 3])"
      ]
     },
     "execution_count": 9,
     "metadata": {},
     "output_type": "execute_result"
    }
   ],
   "source": [
    "array=sorted(arr)\n",
    "arr"
   ]
  },
  {
   "cell_type": "code",
   "execution_count": 10,
   "id": "7e638654-7a71-4846-959d-a3b4dddbe6c5",
   "metadata": {},
   "outputs": [
    {
     "name": "stdout",
     "output_type": "stream",
     "text": [
      "true\n"
     ]
    }
   ],
   "source": [
    "\n",
    "    if[i==5]:\n",
    "        print(\"true\")\n",
    "    else:\n",
    "        print(\"false\")"
   ]
  },
  {
   "cell_type": "code",
   "execution_count": 11,
   "id": "df9f1a79-71bb-46ca-b3ce-cefe4012029c",
   "metadata": {},
   "outputs": [],
   "source": [
    "def search (el,arr):\n",
    "    if el in arr:\n",
    "        return True\n",
    "    else:\n",
    "        return False\n",
    "        \n"
   ]
  },
  {
   "cell_type": "code",
   "execution_count": 12,
   "id": "97714c51-70af-4c5a-abf7-c64a40ebc879",
   "metadata": {},
   "outputs": [],
   "source": [
    "def mult(n,arr):\n",
    "    for i in arr:\n",
    "        print(i*n)\n",
    "        \n"
   ]
  },
  {
   "cell_type": "code",
   "execution_count": 13,
   "id": "480201b0-1c6d-4be5-9870-7e8a82d7f0f4",
   "metadata": {},
   "outputs": [
    {
     "name": "stdout",
     "output_type": "stream",
     "text": [
      "15\n",
      "25\n",
      "1865\n",
      "10\n",
      "15\n"
     ]
    }
   ],
   "source": [
    "mult(5,arr)"
   ]
  },
  {
   "cell_type": "code",
   "execution_count": 14,
   "id": "c08efd87-c4c7-4837-bec0-0067da64d1a9",
   "metadata": {},
   "outputs": [],
   "source": [
    "def mult(n,arr):\n",
    "    for i in arr:\n",
    "        print(i*n)\n",
    "    "
   ]
  },
  {
   "cell_type": "code",
   "execution_count": 15,
   "id": "23979c94-e1d6-48c8-b94f-4f264cc9b3e6",
   "metadata": {},
   "outputs": [
    {
     "name": "stdout",
     "output_type": "stream",
     "text": [
      "6\n",
      "10\n",
      "746\n",
      "4\n",
      "6\n"
     ]
    }
   ],
   "source": [
    "\n",
    "mult(2,arr)"
   ]
  },
  {
   "cell_type": "code",
   "execution_count": 16,
   "id": "f2707cf4-29c0-4e5a-85e4-017bdcdd2832",
   "metadata": {},
   "outputs": [
    {
     "data": {
      "text/plain": [
       "array('i', [3, 5, 373, 2, 3])"
      ]
     },
     "execution_count": 16,
     "metadata": {},
     "output_type": "execute_result"
    }
   ],
   "source": [
    "arr\n"
   ]
  },
  {
   "cell_type": "code",
   "execution_count": 17,
   "id": "13e29dd6-47a4-42e4-85e9-72b061d78fb2",
   "metadata": {},
   "outputs": [],
   "source": [
    "def missing(n,m):\n",
    "    act_sum = (n*(n+1))/2\n",
    "    gn_sum = sum(m)\n",
    "    return(act_sum-gn_sum)\n",
    "    "
   ]
  },
  {
   "cell_type": "code",
   "execution_count": 18,
   "id": "9a121b7c-a568-4e94-9704-ec7dc97fff80",
   "metadata": {},
   "outputs": [
    {
     "ename": "TypeError",
     "evalue": "'list' object is not callable",
     "output_type": "error",
     "traceback": [
      "\u001b[1;31m---------------------------------------------------------------------------\u001b[0m",
      "\u001b[1;31mTypeError\u001b[0m                                 Traceback (most recent call last)",
      "Cell \u001b[1;32mIn[18], line 1\u001b[0m\n\u001b[1;32m----> 1\u001b[0m myarray\u001b[38;5;241m=\u001b[39marray(\u001b[38;5;124m'\u001b[39m\u001b[38;5;124mi\u001b[39m\u001b[38;5;124m'\u001b[39m,[\u001b[38;5;241m1\u001b[39m,\u001b[38;5;241m2\u001b[39m,\u001b[38;5;241m4\u001b[39m,\u001b[38;5;241m5\u001b[39m,\u001b[38;5;241m6\u001b[39m])\n\u001b[0;32m      2\u001b[0m missing(\u001b[38;5;241m6\u001b[39m,myarray)\n",
      "\u001b[1;31mTypeError\u001b[0m: 'list' object is not callable"
     ]
    }
   ],
   "source": [
    "myarray=array('i',[1,2,4,5,6])\n",
    "missing(6,myarray)"
   ]
  },
  {
   "cell_type": "code",
   "execution_count": null,
   "id": "da374c37-a265-4217-a668-07e2135ab62c",
   "metadata": {},
   "outputs": [],
   "source": [
    "myarray=array('i',[1,2,3,5,6])\n",
    "missing(6,myarray)"
   ]
  },
  {
   "cell_type": "code",
   "execution_count": null,
   "id": "f5494be7-2d29-422a-b9a4-8af83ebfbf3b",
   "metadata": {},
   "outputs": [],
   "source": [
    "def find(n,m):\n",
    "    act_sum=n\n",
    "    gn_sum=sum(m)\n",
    "    return(act_sum-gn_sum)"
   ]
  },
  {
   "cell_type": "code",
   "execution_count": null,
   "id": "f1fd6a48-4520-4727-ab78-f8f9790d4d12",
   "metadata": {},
   "outputs": [],
   "source": [
    "myarr=array('i',[12,2,0])\n",
    "find(24,myarr)"
   ]
  },
  {
   "cell_type": "code",
   "execution_count": null,
   "id": "73648b72-a9c8-4206-a7a0-8e270d57b42a",
   "metadata": {},
   "outputs": [],
   "source": [
    "arr=sorted(arr)\n",
    "arr"
   ]
  },
  {
   "cell_type": "code",
   "execution_count": null,
   "id": "59433046-8938-4c92-a6db-ffd21163b3c0",
   "metadata": {},
   "outputs": [],
   "source": [
    "arr=[1,2,5,3,2,4,6,4,1]\n",
    "arr"
   ]
  },
  {
   "cell_type": "code",
   "execution_count": null,
   "id": "04244c46-5c85-4a8a-bf42-6a9d068c67cf",
   "metadata": {},
   "outputs": [],
   "source": [
    "arr=sorted(arr)\n",
    "arr"
   ]
  },
  {
   "cell_type": "code",
   "execution_count": null,
   "id": "66358995-c219-4698-bd91-7714c28af13f",
   "metadata": {},
   "outputs": [],
   "source": [
    "set(arr)"
   ]
  },
  {
   "cell_type": "code",
   "execution_count": null,
   "id": "05c4490c-848f-453f-b43c-ebf1fd33b110",
   "metadata": {},
   "outputs": [],
   "source": [
    "for i in arr:\n",
    "    if(arr[i]==arr[i+1]):\n",
    "        print(arr[i])\n",
    "    "
   ]
  },
  {
   "cell_type": "code",
   "execution_count": null,
   "id": "0fae5437-68b7-4c3b-ba2f-5de21affec05",
   "metadata": {},
   "outputs": [],
   "source": [
    "arr=array('i',[1,1,2,2,3,4,4,5,6])\n",
    "arr"
   ]
  },
  {
   "cell_type": "code",
   "execution_count": null,
   "id": "c02c8ad6-39a6-48d0-87aa-560eebdecc6a",
   "metadata": {},
   "outputs": [],
   "source": [
    "for j in range(1,len(arr)):\n",
    "    if arr[j]!=arr[j-1]:\n",
    "        print(arr[j])\n",
    "    "
   ]
  },
  {
   "cell_type": "raw",
   "id": "e7278ee8-6149-4ec3-a82a-be5a3f546abe",
   "metadata": {},
   "source": []
  },
  {
   "cell_type": "code",
   "execution_count": null,
   "id": "20d3cd26-9459-4084-af4f-633f56ae666a",
   "metadata": {},
   "outputs": [],
   "source": [
    "arr"
   ]
  },
  {
   "cell_type": "code",
   "execution_count": null,
   "id": "537384ec-d992-4d94-8989-197bcb4225cf",
   "metadata": {},
   "outputs": [],
   "source": [
    "arr"
   ]
  },
  {
   "cell_type": "code",
   "execution_count": 1,
   "id": "bfae3033-0a8d-4385-9b7c-a927ffee6778",
   "metadata": {},
   "outputs": [
    {
     "ename": "NameError",
     "evalue": "name 'array' is not defined",
     "output_type": "error",
     "traceback": [
      "\u001b[1;31m---------------------------------------------------------------------------\u001b[0m",
      "\u001b[1;31mNameError\u001b[0m                                 Traceback (most recent call last)",
      "Cell \u001b[1;32mIn[1], line 1\u001b[0m\n\u001b[1;32m----> 1\u001b[0m myarr\u001b[38;5;241m=\u001b[39marray(\u001b[38;5;124m'\u001b[39m\u001b[38;5;124mi\u001b[39m\u001b[38;5;124m'\u001b[39m,[\u001b[38;5;241m1\u001b[39m,\u001b[38;5;241m1\u001b[39m,\u001b[38;5;241m2\u001b[39m,\u001b[38;5;241m2\u001b[39m,\u001b[38;5;241m3\u001b[39m,\u001b[38;5;241m5\u001b[39m,\u001b[38;5;241m8\u001b[39m,\u001b[38;5;241m8\u001b[39m,\u001b[38;5;241m9\u001b[39m,\u001b[38;5;241m0\u001b[39m,\u001b[38;5;241m1\u001b[39m,\u001b[38;5;241m4\u001b[39m])\n\u001b[0;32m      2\u001b[0m myarr\n",
      "\u001b[1;31mNameError\u001b[0m: name 'array' is not defined"
     ]
    }
   ],
   "source": [
    "myarr=array('i',[1,1,2,2,3,5,8,8,9,0,1,4])\n",
    "myarr"
   ]
  },
  {
   "cell_type": "code",
   "execution_count": 1,
   "id": "52f8d34e-1cc9-45c4-9a0c-a8b782fe10e9",
   "metadata": {},
   "outputs": [
    {
     "ename": "SyntaxError",
     "evalue": "incomplete input (2716293135.py, line 2)",
     "output_type": "error",
     "traceback": [
      "\u001b[1;36m  Cell \u001b[1;32mIn[1], line 2\u001b[1;36m\u001b[0m\n\u001b[1;33m    def __init__(self):\u001b[0m\n\u001b[1;37m                       ^\u001b[0m\n\u001b[1;31mSyntaxError\u001b[0m\u001b[1;31m:\u001b[0m incomplete input\n"
     ]
    }
   ],
   "source": [
    "class stack:\n",
    "    def __init__(self):\n",
    "        stack=[]\n",
    "\n",
    "    a=stack[]\n",
    "    for i in range(0,len(a)):\n",
    "        stack.append(a[i])\n",
    "        rev=' '\n",
    "    while (len(stack)!=0):\n",
    "        rev=\n",
    "        "
   ]
  },
  {
   "cell_type": "code",
   "execution_count": null,
   "id": "7ea2230b-60dd-46f2-9f79-2d808a308acb",
   "metadata": {},
   "outputs": [],
   "source": [
    "create a class called Myqueue ' which handle 1.enqueue 2.dequeue 3.is empty"
   ]
  }
 ],
 "metadata": {
  "kernelspec": {
   "display_name": "Python 3 (ipykernel)",
   "language": "python",
   "name": "python3"
  },
  "language_info": {
   "codemirror_mode": {
    "name": "ipython",
    "version": 3
   },
   "file_extension": ".py",
   "mimetype": "text/x-python",
   "name": "python",
   "nbconvert_exporter": "python",
   "pygments_lexer": "ipython3",
   "version": "3.11.7"
  }
 },
 "nbformat": 4,
 "nbformat_minor": 5
}
