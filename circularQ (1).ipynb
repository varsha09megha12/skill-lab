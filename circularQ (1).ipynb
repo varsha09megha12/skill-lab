{
 "cells": [
  {
   "cell_type": "markdown",
   "id": "36c9cdc0-14fb-4309-8ba3-369df1bdc4d1",
   "metadata": {},
   "source": [
    "# CIRCULAR QUEUE IMPLEMENTATION WITH FIXED SIZE"
   ]
  },
  {
   "cell_type": "markdown",
   "id": "f0cc3178-9b1d-4c78-a446-26fbb864d9fe",
   "metadata": {},
   "source": [
    "1.INITIALIZE\n",
    "SIZE\n",
    "FRONT POINTER(EXIT)\n",
    "READ POINTER(ENTRY)\n",
    "QUEUE(LIST)\n",
    "2.ENQUEUE:\n",
    "QUEUE IS FULL(REAR+1 == FRONT)\n",
    "FIRST ELEMENT (REAR = FRONT = 0),THEN APPEND\n",
    "ENTERING ANYWHERE EXCEPT AT THE BEGINING(REAR = REAR+1% SIZE),THEN APPEND\n",
    "3.dequeue:\n",
    "rear = front = -1(queue empty)\n",
    "rear = front (only one element "
   ]
  },
  {
   "cell_type": "code",
   "execution_count": 1,
   "id": "8cfc7e1e-5dde-40bd-a77e-ddf74fb72e0f",
   "metadata": {},
   "outputs": [],
   "source": [
    "class circularQ:\n",
    "    def __init__(self,size):\n",
    "        self.size = size\n",
    "        self.front = self.rear = -1\n",
    "        self.queue = [None]*size\n",
    "    def enqueue(self,data):\n",
    "        if (self.rear+1)%self.size==self.front:\n",
    "            print(\"queue is full\")\n",
    "        elif self.rear==-1:\n",
    "            self.front=self.rear=0\n",
    "            self.queue[self.rear]=data\n",
    "        else:\n",
    "            self.rear=(self.rear+1)%self.size\n",
    "            self.queue[(self.rear)]=data\n",
    "    def dequeue(self,data):\n",
    "        if self.front == -1:\n",
    "            print(\"queue is empty\")\n",
    "        elif self.front == self.rear:\n",
    "            self.front = self.rear = -1\n",
    "        else:\n",
    "            self.front=(self.front+1)%self.size\n",
    "    def display(self):\n",
    "        if self.front == -1:\n",
    "            print(\"queue is empty\")\n",
    "            return\n",
    "        i = self.front\n",
    "        while True:\n",
    "            print(self.queue[i])\n",
    "            if i == self.rear:\n",
    "                break\n",
    "            i=(i+1)% self.size\n",
    "            "
   ]
  },
  {
   "cell_type": "code",
   "execution_count": 2,
   "id": "edd1fc6d-7cba-4354-b3b8-7b1152ffe0e8",
   "metadata": {},
   "outputs": [],
   "source": [
    "a=circularQ(6)\n",
    "a.enqueue(20)\n",
    "a.enqueue(30)\n",
    "a.enqueue(40)\n",
    "a.enqueue(50)\n",
    "a.enqueue(60)\n",
    "a.enqueue(70)"
   ]
  },
  {
   "cell_type": "code",
   "execution_count": 3,
   "id": "2188a05b-8669-4c94-9841-14a9f5baffd7",
   "metadata": {},
   "outputs": [
    {
     "name": "stdout",
     "output_type": "stream",
     "text": [
      "queue is full\n"
     ]
    }
   ],
   "source": [
    "a.enqueue(20)"
   ]
  },
  {
   "cell_type": "code",
   "execution_count": 4,
   "id": "d732467e-4bde-45ad-a935-5920274a0aa7",
   "metadata": {},
   "outputs": [
    {
     "name": "stdout",
     "output_type": "stream",
     "text": [
      "queue is full\n"
     ]
    }
   ],
   "source": [
    "a.enqueue(17)"
   ]
  },
  {
   "cell_type": "code",
   "execution_count": 5,
   "id": "134cb6d4-dc9d-4185-9703-4976d8407361",
   "metadata": {},
   "outputs": [
    {
     "name": "stdout",
     "output_type": "stream",
     "text": [
      "queue is empty\n",
      "queue is empty\n",
      "queue is empty\n"
     ]
    }
   ],
   "source": [
    "a=circularQ(1)\n",
    "a.dequeue(13)\n",
    "a.dequeue(90)\n",
    "a.dequeue(20)"
   ]
  },
  {
   "cell_type": "code",
   "execution_count": 6,
   "id": "755458e8-0730-4c62-9217-d74dd97fb9fe",
   "metadata": {},
   "outputs": [
    {
     "name": "stdout",
     "output_type": "stream",
     "text": [
      "queue is empty\n"
     ]
    }
   ],
   "source": [
    "a.dequeue(45)"
   ]
  },
  {
   "cell_type": "code",
   "execution_count": 7,
   "id": "aa1d65d7-7227-44fd-82ad-67bfb33e2069",
   "metadata": {},
   "outputs": [
    {
     "name": "stdout",
     "output_type": "stream",
     "text": [
      "queue is full\n",
      "queue is full\n",
      "13\n"
     ]
    }
   ],
   "source": [
    "a=circularQ(1)\n",
    "a.enqueue(13)\n",
    "a.enqueue(67)\n",
    "a.enqueue(34)\n",
    "a.display()"
   ]
  },
  {
   "cell_type": "code",
   "execution_count": 8,
   "id": "2113f18d-4135-463b-ac30-18f7b7509225",
   "metadata": {},
   "outputs": [],
   "source": [
    "v=circularQ(3)\n",
    "v.enqueue(67)\n",
    "v.enqueue(12)\n",
    "v.enqueue(23)\n"
   ]
  },
  {
   "cell_type": "code",
   "execution_count": 9,
   "id": "cdc93cc6-dad5-476d-965a-9dbc914df004",
   "metadata": {},
   "outputs": [
    {
     "name": "stdout",
     "output_type": "stream",
     "text": [
      "67\n",
      "12\n",
      "23\n"
     ]
    }
   ],
   "source": [
    "v.display()"
   ]
  },
  {
   "cell_type": "markdown",
   "id": "a2f116e2-2f8b-47ea-876f-446a344ab579",
   "metadata": {},
   "source": [
    "def differenceofsum(num). the function accepts two integers n,m argumenst find the sum of all numbers in range from 1 to m (both inclusive) that are not \n",
    "divided by n . return difference b/n sum of integers not divisible by n with sum of numbers divisible by \n",
    "*n.input n=4,=20 output:90(4+8+12+16+20)(1+2+3+5+6+7+9+10+11+13+14+15+17+18+19=150)(150-60=90)"
   ]
  },
  {
   "cell_type": "code",
   "execution_count": 11,
   "id": "1f4113e7-8366-4f1a-890d-7c272bded7dd",
   "metadata": {},
   "outputs": [],
   "source": [
    "def dif(n,m):\n",
    "    div = 0\n",
    "    nondiv = 0\n",
    "    for i in range(1,m+1):\n",
    "        if i%n == 0:\n",
    "            div = div+i\n",
    "        else:\n",
    "            nondiv = nondiv+i\n",
    "    if nondiv > div:\n",
    "        print(nondiv-div)\n",
    "    else:\n",
    "        print(div-nondiv)\n",
    "    print(\"div\",div)\n",
    "    print(\"nondiv\",nondiv)\n",
    "    t1=sum(div)\n",
    "    print(\"div\",t1)\n",
    "    t2=sum(nondiv)\n",
    "    print(\"nondiv\",t2)\n",
    "    "
   ]
  }
 ],
 "metadata": {
  "kernelspec": {
   "display_name": "Python 3 (ipykernel)",
   "language": "python",
   "name": "python3"
  },
  "language_info": {
   "codemirror_mode": {
    "name": "ipython",
    "version": 3
   },
   "file_extension": ".py",
   "mimetype": "text/x-python",
   "name": "python",
   "nbconvert_exporter": "python",
   "pygments_lexer": "ipython3",
   "version": "3.11.7"
  }
 },
 "nbformat": 4,
 "nbformat_minor": 5
}
